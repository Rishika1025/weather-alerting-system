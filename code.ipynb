{
 "cells": [
  {
   "cell_type": "code",
   "execution_count": 1,
   "id": "c218002c",
   "metadata": {},
   "outputs": [
    {
     "name": "stdout",
     "output_type": "stream",
     "text": [
      "Model Accuracy: 0.8\n",
      "Alert: Weather conditions at time 1 are unfavorable for farming!\n",
      "Alert: Weather conditions at time 3 are unfavorable for farming!\n",
      "Alert: Weather conditions at time 4 are unfavorable for farming!\n",
      "Alert: Weather conditions at time 5 are unfavorable for farming!\n",
      "Alert: Weather conditions at time 7 are unfavorable for farming!\n",
      "Alert: Weather conditions at time 8 are unfavorable for farming!\n",
      "Alert: Weather conditions at time 14 are unfavorable for farming!\n",
      "Alert: Weather conditions at time 17 are unfavorable for farming!\n",
      "Alert: Weather conditions at time 20 are unfavorable for farming!\n",
      "Alert: Weather conditions at time 21 are unfavorable for farming!\n",
      "Alert: Weather conditions at time 22 are unfavorable for farming!\n",
      "Alert: Weather conditions at time 23 are unfavorable for farming!\n",
      "Alert: Weather conditions at time 25 are unfavorable for farming!\n",
      "Alert: Weather conditions at time 26 are unfavorable for farming!\n",
      "Alert: Weather conditions at time 27 are unfavorable for farming!\n",
      "Alert: Weather conditions at time 28 are unfavorable for farming!\n",
      "Alert: Weather conditions at time 31 are unfavorable for farming!\n",
      "Alert: Weather conditions at time 32 are unfavorable for farming!\n",
      "Alert: Weather conditions at time 33 are unfavorable for farming!\n",
      "Alert: Weather conditions at time 34 are unfavorable for farming!\n",
      "Alert: Weather conditions at time 37 are unfavorable for farming!\n",
      "Alert: Weather conditions at time 38 are unfavorable for farming!\n",
      "Alert: Weather conditions at time 39 are unfavorable for farming!\n",
      "Alert: Weather conditions at time 40 are unfavorable for farming!\n",
      "Alert: Weather conditions at time 44 are unfavorable for farming!\n",
      "Alert: Weather conditions at time 45 are unfavorable for farming!\n",
      "Alert: Weather conditions at time 47 are unfavorable for farming!\n",
      "Alert: Weather conditions at time 50 are unfavorable for farming!\n",
      "Alert: Weather conditions at time 51 are unfavorable for farming!\n",
      "Alert: Weather conditions at time 52 are unfavorable for farming!\n",
      "Alert: Weather conditions at time 56 are unfavorable for farming!\n",
      "Alert: Weather conditions at time 61 are unfavorable for farming!\n",
      "Alert: Weather conditions at time 62 are unfavorable for farming!\n",
      "Alert: Weather conditions at time 63 are unfavorable for farming!\n",
      "Alert: Weather conditions at time 67 are unfavorable for farming!\n",
      "Alert: Weather conditions at time 71 are unfavorable for farming!\n",
      "Alert: Weather conditions at time 72 are unfavorable for farming!\n",
      "Alert: Weather conditions at time 79 are unfavorable for farming!\n",
      "Alert: Weather conditions at time 80 are unfavorable for farming!\n",
      "Alert: Weather conditions at time 81 are unfavorable for farming!\n",
      "Alert: Weather conditions at time 82 are unfavorable for farming!\n",
      "Alert: Weather conditions at time 84 are unfavorable for farming!\n",
      "Alert: Weather conditions at time 88 are unfavorable for farming!\n",
      "Alert: Weather conditions at time 89 are unfavorable for farming!\n",
      "Alert: Weather conditions at time 91 are unfavorable for farming!\n",
      "Alert: Weather conditions at time 93 are unfavorable for farming!\n",
      "Alert: Weather conditions at time 95 are unfavorable for farming!\n"
     ]
    }
   ],
   "source": [
    "import pandas as pd\n",
    "from sklearn.model_selection import train_test_split\n",
    "from sklearn.ensemble import RandomForestClassifier\n",
    "from sklearn.metrics import accuracy_score\n",
    "dataset = pd.read_csv('D:\\weather.csv')\n",
    "X = dataset.drop('class', axis=1)\n",
    "y = dataset['class']\n",
    "X_train, X_test, y_train, y_test = train_test_split(X, y, test_size=0.2)\n",
    "clf = RandomForestClassifier()\n",
    "clf.fit(X_train, y_train)\n",
    "predictions = clf.predict(X_test)\n",
    "accuracy = accuracy_score(y_test, predictions)\n",
    "print(f\"Model Accuracy: {accuracy}\")\n",
    "new_weather_data = pd.read_csv('D:\\weather.csv')\n",
    "new_X = new_weather_data.drop('class', axis=1)\n",
    "new_predictions = clf.predict(new_X)\n",
    "for i, prediction in enumerate(new_predictions):\n",
    "    if prediction == 1:\n",
    "        print(f\"Alert: Weather conditions at time {i+1} are unfavorable for farming!\")\n",
    "   # else:\n",
    "    #    print(f\"Weather conditions at time {i+1} are favorable for farming.\")"
   ]
  },
  {
   "cell_type": "code",
   "execution_count": null,
   "id": "82545d8a",
   "metadata": {},
   "outputs": [],
   "source": []
  }
 ],
 "metadata": {
  "kernelspec": {
   "display_name": "Python 3 (ipykernel)",
   "language": "python",
   "name": "python3"
  },
  "language_info": {
   "codemirror_mode": {
    "name": "ipython",
    "version": 3
   },
   "file_extension": ".py",
   "mimetype": "text/x-python",
   "name": "python",
   "nbconvert_exporter": "python",
   "pygments_lexer": "ipython3",
   "version": "3.9.12"
  }
 },
 "nbformat": 4,
 "nbformat_minor": 5
}
